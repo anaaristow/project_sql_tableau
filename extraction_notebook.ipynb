{
 "cells": [
  {
   "cell_type": "code",
   "execution_count": 1,
   "metadata": {},
   "outputs": [],
   "source": [
    "import pandas as pd"
   ]
  },
  {
   "cell_type": "code",
   "execution_count": 2,
   "metadata": {},
   "outputs": [],
   "source": [
    "incidents = pd.read_csv(\"data/gun_violence.csv\", sep=';')\n",
    "gun_sold = pd.read_csv(\"data/firearm_sales.csv\", sep=';')"
   ]
  },
  {
   "cell_type": "code",
   "execution_count": 4,
   "metadata": {},
   "outputs": [
    {
     "name": "stdout",
     "output_type": "stream",
     "text": [
      "      year          state  totals\n",
      "0     1998        Alabama   36568\n",
      "1     1998         Alaska    3985\n",
      "2     1998        Arizona   17453\n",
      "3     1998       Arkansas   21752\n",
      "4     1998     California   67445\n",
      "...    ...            ...     ...\n",
      "1425  2023       Virginia  380231\n",
      "1426  2023     Washington  492483\n",
      "1427  2023  West Virginia  132652\n",
      "1428  2023      Wisconsin  408332\n",
      "1429  2023        Wyoming   47238\n",
      "\n",
      "[1430 rows x 3 columns]\n"
     ]
    }
   ],
   "source": [
    "def group_df_guns_sold_per_year(dataframe):\n",
    "    \n",
    "    '''Groups the DataFrame of Firearm Sales by year and state, summing the totals.'''\n",
    "\n",
    "    dataframe['data'] = pd.to_datetime(dataframe['data'], format='%d/%m/%Y')\n",
    "    dataframe['year'] = dataframe['data'].dt.year\n",
    "    grouped = dataframe.groupby(['year', 'state']).agg({'totals': 'sum'}).reset_index()\n",
    "    grouped.to_csv(\"data/firearm_sales_groupby.csv\")\n",
    "    print(grouped)\n",
    "    \n",
    "group_df_guns_sold_per_year(gun_sold)"
   ]
  },
  {
   "cell_type": "code",
   "execution_count": 5,
   "metadata": {},
   "outputs": [
    {
     "name": "stdout",
     "output_type": "stream",
     "text": [
      "     year          state  n_injured  n_killed\n",
      "0    2013        Alabama          9         3\n",
      "1    2013        Arizona         16         8\n",
      "2    2013     California        139        46\n",
      "3    2013       Colorado          9         4\n",
      "4    2013    Connecticut         13         2\n",
      "..    ...            ...        ...       ...\n",
      "287  2018       Virginia        187        72\n",
      "288  2018     Washington         83        54\n",
      "289  2018  West Virginia         34        23\n",
      "290  2018      Wisconsin        118        46\n",
      "291  2018        Wyoming          0        10\n",
      "\n",
      "[292 rows x 4 columns]\n"
     ]
    }
   ],
   "source": [
    "def group_df_incidents_per_year(dataframe):\n",
    "    \n",
    "    ''' Groups the DataFrame of Gun Violence incidents by year and state,\n",
    "    summing the number of injured and killed.'''\n",
    "\n",
    "    dataframe['date'] = pd.to_datetime(dataframe['date'], format='%d/%m/%Y')\n",
    "    dataframe['year'] = dataframe['date'].dt.year\n",
    "    grouped = dataframe.groupby(['year', 'state']).agg({'n_injured': 'sum', 'n_killed': 'sum'}).reset_index()\n",
    "    grouped.to_csv(\"data/gun_violence_groupby.csv\")\n",
    "    print(grouped)\n",
    "    \n",
    "group_df_incidents_per_year(incidents)"
   ]
  }
 ],
 "metadata": {
  "kernelspec": {
   "display_name": "ironhack",
   "language": "python",
   "name": "python3"
  },
  "language_info": {
   "codemirror_mode": {
    "name": "ipython",
    "version": 3
   },
   "file_extension": ".py",
   "mimetype": "text/x-python",
   "name": "python",
   "nbconvert_exporter": "python",
   "pygments_lexer": "ipython3",
   "version": "3.12.0"
  }
 },
 "nbformat": 4,
 "nbformat_minor": 2
}
